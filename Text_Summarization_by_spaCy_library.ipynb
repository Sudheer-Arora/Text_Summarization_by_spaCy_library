{
  "nbformat": 4,
  "nbformat_minor": 0,
  "metadata": {
    "colab": {
      "provenance": [],
      "authorship_tag": "ABX9TyMyqhs4SV68W4mmNbtH/8d5",
      "include_colab_link": true
    },
    "kernelspec": {
      "name": "python3",
      "display_name": "Python 3"
    },
    "language_info": {
      "name": "python"
    }
  },
  "cells": [
    {
      "cell_type": "markdown",
      "metadata": {
        "id": "view-in-github",
        "colab_type": "text"
      },
      "source": [
        "<a href=\"https://colab.research.google.com/github/Sudheer-Arora/Text_Summarization_by_spaCy_library/blob/main/Text_Summarization_by_spaCy_library.ipynb\" target=\"_parent\"><img src=\"https://colab.research.google.com/assets/colab-badge.svg\" alt=\"Open In Colab\"/></a>"
      ]
    },
    {
      "cell_type": "code",
      "execution_count": null,
      "metadata": {
        "id": "ww_KHBIIOsRo"
      },
      "outputs": [],
      "source": [
        "import spacy\n",
        "from spacy.lang.en.stop_words import STOP_WORDS\n",
        "from string import punctuation\n",
        "from collections import Counter\n",
        "from heapq import nlargest"
      ]
    },
    {
      "cell_type": "code",
      "source": [
        "nlp=spacy.load('en_core_web_sm')"
      ],
      "metadata": {
        "id": "LEwkmndWPA8O"
      },
      "execution_count": null,
      "outputs": []
    },
    {
      "cell_type": "code",
      "source": [
        "s1=\"Machine learning (ML) is the scientific study of algorithms and statistical models that computer systems use to progressively improve their performance on a specific task. Machine learning algorithms build a mathematical model of sample data, known as “training data”, in order to make predictions or decisions without being explicitly programmed to perform the task. Machine learning algorithms are used in the applications of email filtering, detection of network intruders, and computer vision, where it is infeasible to develop an algorithm of specific instructions for performing the task. Machine learning is closely related to computational statistics, which focuses on making predictions using computers. The study of mathematical optimization delivers methods, theory and application domains to the field of machine learning. Data mining is a field of study within machine learning and focuses on exploratory data analysis through unsupervised learning. In its application across business problems, machine learning is also referred to as predictive analytics.\""
      ],
      "metadata": {
        "id": "Ej_VMIe5PP1l"
      },
      "execution_count": null,
      "outputs": []
    },
    {
      "cell_type": "code",
      "source": [
        "doc=nlp(s1)"
      ],
      "metadata": {
        "id": "bUW6yILLPmQe"
      },
      "execution_count": null,
      "outputs": []
    },
    {
      "cell_type": "code",
      "source": [
        "len(list(doc.sents))"
      ],
      "metadata": {
        "colab": {
          "base_uri": "https://localhost:8080/"
        },
        "id": "zvqiW2I-QIG3",
        "outputId": "4745a1ed-bbd3-4d7b-f7ca-7b5928788627"
      },
      "execution_count": null,
      "outputs": [
        {
          "output_type": "execute_result",
          "data": {
            "text/plain": [
              "7"
            ]
          },
          "metadata": {},
          "execution_count": 14
        }
      ]
    },
    {
      "cell_type": "code",
      "source": [
        "keyword=[]\n",
        "stopword=list(STOP_WORDS)\n",
        "pos_tag=[\"PROPN\",\"ADJ\",\"NOUN\",\"VERB\"]\n",
        "for token in doc:\n",
        "    if(token.text in stopword or token.text in punctuation):\n",
        "        continue\n",
        "    if(token.pos_ in pos_tag):\n",
        "        keyword.append(token.text)"
      ],
      "metadata": {
        "id": "ryEwohOEQMrs"
      },
      "execution_count": null,
      "outputs": []
    },
    {
      "cell_type": "code",
      "source": [
        "freq_word=Counter(keyword)\n",
        "freq_word.most_common(10)"
      ],
      "metadata": {
        "colab": {
          "base_uri": "https://localhost:8080/"
        },
        "id": "nSjsHZUkRR3N",
        "outputId": "fdca805d-1926-4ed2-cc61-38377170cc1f"
      },
      "execution_count": null,
      "outputs": [
        {
          "output_type": "execute_result",
          "data": {
            "text/plain": [
              "[('learning', 8),\n",
              " ('Machine', 4),\n",
              " ('study', 3),\n",
              " ('algorithms', 3),\n",
              " ('task', 3),\n",
              " ('data', 3),\n",
              " ('machine', 3),\n",
              " ('computer', 2),\n",
              " ('specific', 2),\n",
              " ('mathematical', 2)]"
            ]
          },
          "metadata": {},
          "execution_count": 16
        }
      ]
    },
    {
      "cell_type": "code",
      "source": [
        "max_freq=Counter(keyword).most_common(1)[0][1]\n",
        "for word in freq_word.keys():\n",
        "  freq_word[word]=(freq_word[word]/max_freq)\n",
        "freq_word.most_common()"
      ],
      "metadata": {
        "colab": {
          "base_uri": "https://localhost:8080/"
        },
        "id": "QgW3gjO_RlAo",
        "outputId": "a04fb98e-4a28-42dc-8878-4895b544c300"
      },
      "execution_count": null,
      "outputs": [
        {
          "output_type": "execute_result",
          "data": {
            "text/plain": [
              "[('learning', 1.0),\n",
              " ('Machine', 0.5),\n",
              " ('study', 0.375),\n",
              " ('algorithms', 0.375),\n",
              " ('task', 0.375),\n",
              " ('data', 0.375),\n",
              " ('machine', 0.375),\n",
              " ('computer', 0.25),\n",
              " ('specific', 0.25),\n",
              " ('mathematical', 0.25),\n",
              " ('predictions', 0.25),\n",
              " ('focuses', 0.25),\n",
              " ('application', 0.25),\n",
              " ('field', 0.25),\n",
              " ('ML', 0.125),\n",
              " ('scientific', 0.125),\n",
              " ('statistical', 0.125),\n",
              " ('models', 0.125),\n",
              " ('systems', 0.125),\n",
              " ('use', 0.125),\n",
              " ('improve', 0.125),\n",
              " ('performance', 0.125),\n",
              " ('build', 0.125),\n",
              " ('model', 0.125),\n",
              " ('sample', 0.125),\n",
              " ('known', 0.125),\n",
              " ('training', 0.125),\n",
              " ('order', 0.125),\n",
              " ('decisions', 0.125),\n",
              " ('programmed', 0.125),\n",
              " ('perform', 0.125),\n",
              " ('applications', 0.125),\n",
              " ('email', 0.125),\n",
              " ('filtering', 0.125),\n",
              " ('detection', 0.125),\n",
              " ('network', 0.125),\n",
              " ('intruders', 0.125),\n",
              " ('vision', 0.125),\n",
              " ('infeasible', 0.125),\n",
              " ('develop', 0.125),\n",
              " ('algorithm', 0.125),\n",
              " ('instructions', 0.125),\n",
              " ('performing', 0.125),\n",
              " ('related', 0.125),\n",
              " ('computational', 0.125),\n",
              " ('statistics', 0.125),\n",
              " ('making', 0.125),\n",
              " ('computers', 0.125),\n",
              " ('optimization', 0.125),\n",
              " ('delivers', 0.125),\n",
              " ('methods', 0.125),\n",
              " ('theory', 0.125),\n",
              " ('domains', 0.125),\n",
              " ('Data', 0.125),\n",
              " ('mining', 0.125),\n",
              " ('exploratory', 0.125),\n",
              " ('analysis', 0.125),\n",
              " ('unsupervised', 0.125),\n",
              " ('business', 0.125),\n",
              " ('problems', 0.125),\n",
              " ('referred', 0.125),\n",
              " ('predictive', 0.125),\n",
              " ('analytics', 0.125)]"
            ]
          },
          "metadata": {},
          "execution_count": 17
        }
      ]
    },
    {
      "cell_type": "code",
      "source": [
        "sent_strength={}\n",
        "for sent in doc.sents:\n",
        "  for word in sent:\n",
        "    if word.text in freq_word.keys():\n",
        "      if sent in sent_strength.keys():\n",
        "        sent_strength[sent]+=freq_word[word.text]\n",
        "      else:\n",
        "        sent_strength[sent]=freq_word[word.text]\n",
        "print(sent_strength)"
      ],
      "metadata": {
        "colab": {
          "base_uri": "https://localhost:8080/"
        },
        "id": "n3l0B75FVY-f",
        "outputId": "77ec8cd2-68ca-497f-f736-20422cdb2a4a"
      },
      "execution_count": null,
      "outputs": [
        {
          "output_type": "stream",
          "name": "stdout",
          "text": [
            "{Machine learning (ML) is the scientific study of algorithms and statistical models that computer systems use to progressively improve their performance on a specific task.: 4.125, Machine learning algorithms build a mathematical model of sample data, known as “training data”, in order to make predictions or decisions without being explicitly programmed to perform the task.: 4.625, Machine learning algorithms are used in the applications of email filtering, detection of network intruders, and computer vision, where it is infeasible to develop an algorithm of specific instructions for performing the task.: 4.25, Machine learning is closely related to computational statistics, which focuses on making predictions using computers.: 2.625, The study of mathematical optimization delivers methods, theory and application domains to the field of machine learning.: 3.125, Data mining is a field of study within machine learning and focuses on exploratory data analysis through unsupervised learning.: 4.25, In its application across business problems, machine learning is also referred to as predictive analytics.: 2.25}\n"
          ]
        }
      ]
    },
    {
      "cell_type": "code",
      "source": [
        "summarized_sentences=nlargest(3,sent_strength,key=sent_strength.get)\n",
        "summarized_sentences"
      ],
      "metadata": {
        "colab": {
          "base_uri": "https://localhost:8080/"
        },
        "id": "xzRXaBEeVm-P",
        "outputId": "b41f8f51-631b-4241-a26b-77566ca248d1"
      },
      "execution_count": null,
      "outputs": [
        {
          "output_type": "execute_result",
          "data": {
            "text/plain": [
              "[Machine learning algorithms build a mathematical model of sample data, known as “training data”, in order to make predictions or decisions without being explicitly programmed to perform the task.,\n",
              " Machine learning algorithms are used in the applications of email filtering, detection of network intruders, and computer vision, where it is infeasible to develop an algorithm of specific instructions for performing the task.,\n",
              " Data mining is a field of study within machine learning and focuses on exploratory data analysis through unsupervised learning.]"
            ]
          },
          "metadata": {},
          "execution_count": 19
        }
      ]
    },
    {
      "cell_type": "code",
      "source": [
        "print(type(summarized_sentences[0]))"
      ],
      "metadata": {
        "colab": {
          "base_uri": "https://localhost:8080/"
        },
        "id": "Fgqf5MdgVvjA",
        "outputId": "f6832ba9-2d8a-4ce0-da98-7c40a7dc5e3c"
      },
      "execution_count": null,
      "outputs": [
        {
          "output_type": "stream",
          "name": "stdout",
          "text": [
            "<class 'spacy.tokens.span.Span'>\n"
          ]
        }
      ]
    },
    {
      "cell_type": "code",
      "source": [
        "from typing import final\n",
        "final_sentences=[w.text for w in summarized_sentences]\n",
        "summary=\"\".join(final_sentences)\n",
        "print(summary)"
      ],
      "metadata": {
        "colab": {
          "base_uri": "https://localhost:8080/"
        },
        "id": "JDWx3m_WWFWG",
        "outputId": "fcbc5377-78de-4c40-8666-37940e933ae6"
      },
      "execution_count": null,
      "outputs": [
        {
          "output_type": "stream",
          "name": "stdout",
          "text": [
            "Machine learning algorithms build a mathematical model of sample data, known as “training data”, in order to make predictions or decisions without being explicitly programmed to perform the task.Machine learning algorithms are used in the applications of email filtering, detection of network intruders, and computer vision, where it is infeasible to develop an algorithm of specific instructions for performing the task.Data mining is a field of study within machine learning and focuses on exploratory data analysis through unsupervised learning.\n"
          ]
        }
      ]
    },
    {
      "cell_type": "code",
      "source": [],
      "metadata": {
        "id": "uQqTypLnWgrd"
      },
      "execution_count": null,
      "outputs": []
    }
  ]
}