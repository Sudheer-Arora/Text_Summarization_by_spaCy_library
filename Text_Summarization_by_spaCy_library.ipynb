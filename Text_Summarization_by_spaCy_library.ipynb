{
  "nbformat": 4,
  "nbformat_minor": 0,
  "metadata": {
    "colab": {
      "provenance": [],
      "authorship_tag": "ABX9TyO8x0G9wQ+UZJBukfk/E25M",
      "include_colab_link": true
    },
    "kernelspec": {
      "name": "python3",
      "display_name": "Python 3"
    },
    "language_info": {
      "name": "python"
    }
  },
  "cells": [
    {
      "cell_type": "markdown",
      "metadata": {
        "id": "view-in-github",
        "colab_type": "text"
      },
      "source": [
        "<a href=\"https://colab.research.google.com/github/Sudheer-Arora/Text_Summarization_by_spaCy_library/blob/main/Text_Summarization_by_spaCy_library.ipynb\" target=\"_parent\"><img src=\"https://colab.research.google.com/assets/colab-badge.svg\" alt=\"Open In Colab\"/></a>"
      ]
    },
    {
      "cell_type": "code",
      "execution_count": 4,
      "metadata": {
        "id": "ww_KHBIIOsRo"
      },
      "outputs": [],
      "source": [
        "import spacy\n",
        "from spacy.lang.en.stop_words import STOP_WORDS\n",
        "from string import punctuation\n",
        "from collections import Counter\n",
        "from heapq import nlargest"
      ]
    },
    {
      "cell_type": "code",
      "source": [
        "nlp=spacy.load('en_core_web_sm')"
      ],
      "metadata": {
        "id": "LEwkmndWPA8O"
      },
      "execution_count": 5,
      "outputs": []
    },
    {
      "cell_type": "code",
      "source": [
        "s1=\"Machine learning (ML) is the scientific study of algorithms and statistical models that computer systems use to progressively improve their performance on a specific task. Machine learning algorithms build a mathematical model of sample data, known as “training data”, in order to make predictions or decisions without being explicitly programmed to perform the task. Machine learning algorithms are used in the applications of email filtering, detection of network intruders, and computer vision, where it is infeasible to develop an algorithm of specific instructions for performing the task. Machine learning is closely related to computational statistics, which focuses on making predictions using computers. The study of mathematical optimization delivers methods, theory and application domains to the field of machine learning. Data mining is a field of study within machine learning and focuses on exploratory data analysis through unsupervised learning. In its application across business problems, machine learning is also referred to as predictive analytics.\""
      ],
      "metadata": {
        "id": "Ej_VMIe5PP1l"
      },
      "execution_count": 6,
      "outputs": []
    },
    {
      "cell_type": "code",
      "source": [
        "doc=nlp(s1)"
      ],
      "metadata": {
        "id": "bUW6yILLPmQe"
      },
      "execution_count": 7,
      "outputs": []
    },
    {
      "cell_type": "code",
      "source": [
        "len(list(doc.sents))"
      ],
      "metadata": {
        "colab": {
          "base_uri": "https://localhost:8080/"
        },
        "id": "zvqiW2I-QIG3",
        "outputId": "fa34cffd-49eb-4fd6-8eed-705de64924e5"
      },
      "execution_count": 8,
      "outputs": [
        {
          "output_type": "execute_result",
          "data": {
            "text/plain": [
              "7"
            ]
          },
          "metadata": {},
          "execution_count": 8
        }
      ]
    },
    {
      "cell_type": "code",
      "source": [
        "keyword=[]\n",
        "stopword=list(STOP_WORDS)\n",
        "pos_tag=[\"PROPN\",\"ADJ\",\"NOUN\",\"VERB\"]\n",
        "for token in doc:\n",
        "    if(token.text in stopword or token.text in punctuation):\n",
        "        continue\n",
        "    if(token.pos_ in pos_tag):\n",
        "        keyword.append(token.text)"
      ],
      "metadata": {
        "id": "ryEwohOEQMrs"
      },
      "execution_count": 9,
      "outputs": []
    },
    {
      "cell_type": "code",
      "source": [
        "freq_word=Counter(keyword)\n",
        "freq_word.most_common(10)"
      ],
      "metadata": {
        "colab": {
          "base_uri": "https://localhost:8080/"
        },
        "id": "nSjsHZUkRR3N",
        "outputId": "18f43968-4454-418c-f88f-de4cca5c3b3c"
      },
      "execution_count": 10,
      "outputs": [
        {
          "output_type": "execute_result",
          "data": {
            "text/plain": [
              "[('learning', 8),\n",
              " ('Machine', 4),\n",
              " ('study', 3),\n",
              " ('algorithms', 3),\n",
              " ('task', 3),\n",
              " ('data', 3),\n",
              " ('machine', 3),\n",
              " ('computer', 2),\n",
              " ('specific', 2),\n",
              " ('mathematical', 2)]"
            ]
          },
          "metadata": {},
          "execution_count": 10
        }
      ]
    },
    {
      "cell_type": "code",
      "source": [
        "max_freq=Counter(keyword).most_common(1)[0][1]\n",
        "for word in freq_word.keys():\n",
        "  freq_word[word]=(freq_word[word]/max_freq)\n",
        "freq_word.most_common()"
      ],
      "metadata": {
        "colab": {
          "base_uri": "https://localhost:8080/"
        },
        "id": "QgW3gjO_RlAo",
        "outputId": "f3319353-26c9-4eca-cd84-a6fc3f76e0b0"
      },
      "execution_count": 11,
      "outputs": [
        {
          "output_type": "execute_result",
          "data": {
            "text/plain": [
              "[('learning', 1.0),\n",
              " ('Machine', 0.5),\n",
              " ('study', 0.375),\n",
              " ('algorithms', 0.375),\n",
              " ('task', 0.375),\n",
              " ('data', 0.375),\n",
              " ('machine', 0.375),\n",
              " ('computer', 0.25),\n",
              " ('specific', 0.25),\n",
              " ('mathematical', 0.25),\n",
              " ('predictions', 0.25),\n",
              " ('focuses', 0.25),\n",
              " ('application', 0.25),\n",
              " ('field', 0.25),\n",
              " ('ML', 0.125),\n",
              " ('scientific', 0.125),\n",
              " ('statistical', 0.125),\n",
              " ('models', 0.125),\n",
              " ('systems', 0.125),\n",
              " ('use', 0.125),\n",
              " ('improve', 0.125),\n",
              " ('performance', 0.125),\n",
              " ('build', 0.125),\n",
              " ('model', 0.125),\n",
              " ('sample', 0.125),\n",
              " ('known', 0.125),\n",
              " ('training', 0.125),\n",
              " ('order', 0.125),\n",
              " ('decisions', 0.125),\n",
              " ('programmed', 0.125),\n",
              " ('perform', 0.125),\n",
              " ('applications', 0.125),\n",
              " ('email', 0.125),\n",
              " ('filtering', 0.125),\n",
              " ('detection', 0.125),\n",
              " ('network', 0.125),\n",
              " ('intruders', 0.125),\n",
              " ('vision', 0.125),\n",
              " ('infeasible', 0.125),\n",
              " ('develop', 0.125),\n",
              " ('algorithm', 0.125),\n",
              " ('instructions', 0.125),\n",
              " ('performing', 0.125),\n",
              " ('related', 0.125),\n",
              " ('computational', 0.125),\n",
              " ('statistics', 0.125),\n",
              " ('making', 0.125),\n",
              " ('computers', 0.125),\n",
              " ('optimization', 0.125),\n",
              " ('delivers', 0.125),\n",
              " ('methods', 0.125),\n",
              " ('theory', 0.125),\n",
              " ('domains', 0.125),\n",
              " ('Data', 0.125),\n",
              " ('mining', 0.125),\n",
              " ('exploratory', 0.125),\n",
              " ('analysis', 0.125),\n",
              " ('unsupervised', 0.125),\n",
              " ('business', 0.125),\n",
              " ('problems', 0.125),\n",
              " ('referred', 0.125),\n",
              " ('predictive', 0.125),\n",
              " ('analytics', 0.125)]"
            ]
          },
          "metadata": {},
          "execution_count": 11
        }
      ]
    },
    {
      "cell_type": "code",
      "source": [
        "sent_strength={}\n",
        "for sent in doc.sents:\n",
        "  for word in sent:\n",
        "    if word.text in freq_word.keys():\n",
        "      if sent in sent_strength.keys():\n",
        "        sent_strength[sent]+=freq_word[word.text]\n",
        "      else:\n",
        "        sent_strength[sent]=freq_word[word.text]\n",
        "print(sent_strength)"
      ],
      "metadata": {
        "colab": {
          "base_uri": "https://localhost:8080/"
        },
        "id": "n3l0B75FVY-f",
        "outputId": "6b585a33-39ab-4e2f-d636-14bd116e9838"
      },
      "execution_count": 12,
      "outputs": [
        {
          "output_type": "stream",
          "name": "stdout",
          "text": [
            "{Machine learning (ML) is the scientific study of algorithms and statistical models that computer systems use to progressively improve their performance on a specific task.: 4.125, Machine learning algorithms build a mathematical model of sample data, known as “training data”, in order to make predictions or decisions without being explicitly programmed to perform the task.: 4.625, Machine learning algorithms are used in the applications of email filtering, detection of network intruders, and computer vision, where it is infeasible to develop an algorithm of specific instructions for performing the task.: 4.25, Machine learning is closely related to computational statistics, which focuses on making predictions using computers.: 2.625, The study of mathematical optimization delivers methods, theory and application domains to the field of machine learning.: 3.125, Data mining is a field of study within machine learning and focuses on exploratory data analysis through unsupervised learning.: 4.25, In its application across business problems, machine learning is also referred to as predictive analytics.: 2.25}\n"
          ]
        }
      ]
    },
    {
      "cell_type": "code",
      "source": [
        "summarized_sentences=nlargest(3,sent_strength,key=sent_strength.get)\n",
        "summarized_sentences"
      ],
      "metadata": {
        "colab": {
          "base_uri": "https://localhost:8080/"
        },
        "id": "xzRXaBEeVm-P",
        "outputId": "07147011-dbfa-45bf-82c2-d919d7b7c3a0"
      },
      "execution_count": 13,
      "outputs": [
        {
          "output_type": "execute_result",
          "data": {
            "text/plain": [
              "[Machine learning algorithms build a mathematical model of sample data, known as “training data”, in order to make predictions or decisions without being explicitly programmed to perform the task.,\n",
              " Machine learning algorithms are used in the applications of email filtering, detection of network intruders, and computer vision, where it is infeasible to develop an algorithm of specific instructions for performing the task.,\n",
              " Data mining is a field of study within machine learning and focuses on exploratory data analysis through unsupervised learning.]"
            ]
          },
          "metadata": {},
          "execution_count": 13
        }
      ]
    },
    {
      "cell_type": "code",
      "source": [
        "print(type(summarized_sentences[0]))"
      ],
      "metadata": {
        "colab": {
          "base_uri": "https://localhost:8080/"
        },
        "id": "Fgqf5MdgVvjA",
        "outputId": "f9c8fd9b-ea02-4faa-de80-cf920d2f215a"
      },
      "execution_count": 14,
      "outputs": [
        {
          "output_type": "stream",
          "name": "stdout",
          "text": [
            "<class 'spacy.tokens.span.Span'>\n"
          ]
        }
      ]
    },
    {
      "cell_type": "code",
      "source": [
        "from typing import final\n",
        "final_sentences=[w.text for w in summarized_sentences]\n",
        "summary=\"\".join(final_sentences)\n",
        "print(summary)"
      ],
      "metadata": {
        "colab": {
          "base_uri": "https://localhost:8080/"
        },
        "id": "JDWx3m_WWFWG",
        "outputId": "51635d54-83d6-44e9-ce89-84551751b944"
      },
      "execution_count": 15,
      "outputs": [
        {
          "output_type": "stream",
          "name": "stdout",
          "text": [
            "Machine learning algorithms build a mathematical model of sample data, known as “training data”, in order to make predictions or decisions without being explicitly programmed to perform the task.Machine learning algorithms are used in the applications of email filtering, detection of network intruders, and computer vision, where it is infeasible to develop an algorithm of specific instructions for performing the task.Data mining is a field of study within machine learning and focuses on exploratory data analysis through unsupervised learning.\n"
          ]
        }
      ]
    },
    {
      "cell_type": "code",
      "source": [
        "import re"
      ],
      "metadata": {
        "id": "uQqTypLnWgrd"
      },
      "execution_count": 16,
      "outputs": []
    },
    {
      "cell_type": "code",
      "source": [
        "def analyze_text(text):\n",
        "    character_count=len(text)\n",
        "    punctuation_count=len(re.findall(r'[^\\w\\s]', text))\n",
        "    sentence_count=len(re.findall(r'[.!?]+', text))\n",
        "    space_count=text.count(' ')\n",
        "    return character_count, punctuation_count, sentence_count, space_count"
      ],
      "metadata": {
        "id": "6tRiTRNH2HUZ"
      },
      "execution_count": 17,
      "outputs": []
    },
    {
      "cell_type": "code",
      "source": [
        "orig_char_count, orig_punct_count, orig_sentence_count, orig_space_count = analyze_text(s1)\n",
        "sum_char_count, sum_punct_count, sum_sentence_count, sum_space_count = analyze_text(summary)"
      ],
      "metadata": {
        "id": "EZx1VXgE2K9_"
      },
      "execution_count": 18,
      "outputs": []
    },
    {
      "cell_type": "code",
      "source": [
        "print(f\"\\nOriginal Text Analysis:\\nCharacters: {orig_char_count}, Punctuation Marks: {orig_punct_count}, Sentences: {orig_sentence_count}, Spaces: {orig_space_count}\")\n",
        "print(f\"Summarized Text Analysis:\\nCharacters: {sum_char_count}, Punctuation Marks: {sum_punct_count}, Sentences: {sum_sentence_count}, Spaces: {sum_space_count}\")"
      ],
      "metadata": {
        "id": "dwrhD-pQ2T1U",
        "outputId": "78a91cef-a6a1-450f-8097-de276ae91e9b",
        "colab": {
          "base_uri": "https://localhost:8080/"
        }
      },
      "execution_count": 19,
      "outputs": [
        {
          "output_type": "stream",
          "name": "stdout",
          "text": [
            "\n",
            "Original Text Analysis:\n",
            "Characters: 1069, Punctuation Marks: 19, Sentences: 7, Spaces: 152\n",
            "Summarized Text Analysis:\n",
            "Characters: 548, Punctuation Marks: 10, Sentences: 3, Spaces: 78\n"
          ]
        }
      ]
    }
  ]
}